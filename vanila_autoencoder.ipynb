{
 "cells": [
  {
   "cell_type": "code",
   "execution_count": 1,
   "id": "50487e79",
   "metadata": {},
   "outputs": [
    {
     "name": "stderr",
     "output_type": "stream",
     "text": [
      "/home/yubaes/anaconda3/envs/DL/lib/python3.7/site-packages/tqdm/auto.py:22: TqdmWarning: IProgress not found. Please update jupyter and ipywidgets. See https://ipywidgets.readthedocs.io/en/stable/user_install.html\n",
      "  from .autonotebook import tqdm as notebook_tqdm\n"
     ]
    }
   ],
   "source": [
    "from src.autoencoder import*"
   ]
  },
  {
   "cell_type": "code",
   "execution_count": 2,
   "id": "de497f2f",
   "metadata": {},
   "outputs": [
    {
     "data": {
      "text/html": [
       "<pre style=\"white-space:pre;overflow-x:auto;line-height:normal;font-family:Menlo,'DejaVu Sans Mono',consolas,'Courier New',monospace\">train_loss function equal <span style=\"color: #008080; text-decoration-color: #008080; font-weight: bold\">0.9238205552101135</span>\n",
       "</pre>\n"
      ],
      "text/plain": [
       "train_loss function equal \u001b[1;36m0.9238205552101135\u001b[0m\n"
      ]
     },
     "metadata": {},
     "output_type": "display_data"
    },
    {
     "name": "stdout",
     "output_type": "stream",
     "text": [
      "EPOCH: 1.000\ttrn_loss: 0.263\t(1.57s - 14.14s remaining)"
     ]
    },
    {
     "data": {
      "text/html": [
       "<pre style=\"white-space:pre;overflow-x:auto;line-height:normal;font-family:Menlo,'DejaVu Sans Mono',consolas,'Courier New',monospace\">train_loss function equal <span style=\"color: #008080; text-decoration-color: #008080; font-weight: bold\">0.2558983862400055</span>\n",
       "</pre>\n"
      ],
      "text/plain": [
       "train_loss function equal \u001b[1;36m0.2558983862400055\u001b[0m\n"
      ]
     },
     "metadata": {},
     "output_type": "display_data"
    },
    {
     "name": "stdout",
     "output_type": "stream",
     "text": [
      "EPOCH: 1.000\ttrn_loss: 0.249\t(2.70s - 24.27s remaining)"
     ]
    },
    {
     "data": {
      "text/html": [
       "<pre style=\"white-space:pre;overflow-x:auto;line-height:normal;font-family:Menlo,'DejaVu Sans Mono',consolas,'Courier New',monospace\">train_loss function equal <span style=\"color: #008080; text-decoration-color: #008080; font-weight: bold\">0.2453974038362503</span>\n",
       "</pre>\n"
      ],
      "text/plain": [
       "train_loss function equal \u001b[1;36m0.2453974038362503\u001b[0m\n"
      ]
     },
     "metadata": {},
     "output_type": "display_data"
    },
    {
     "name": "stdout",
     "output_type": "stream",
     "text": [
      "EPOCH: 1.000\ttrn_loss: 0.213\t(3.77s - 33.90s remaining)"
     ]
    },
    {
     "data": {
      "text/html": [
       "<pre style=\"white-space:pre;overflow-x:auto;line-height:normal;font-family:Menlo,'DejaVu Sans Mono',consolas,'Courier New',monospace\">train_loss function equal <span style=\"color: #008080; text-decoration-color: #008080; font-weight: bold\">0.21823279559612274</span>\n",
       "</pre>\n"
      ],
      "text/plain": [
       "train_loss function equal \u001b[1;36m0.21823279559612274\u001b[0m\n"
      ]
     },
     "metadata": {},
     "output_type": "display_data"
    },
    {
     "name": "stdout",
     "output_type": "stream",
     "text": [
      "EPOCH: 1.000\ttrn_loss: 0.190\t(4.84s - 43.57s remaining)"
     ]
    },
    {
     "data": {
      "text/html": [
       "<pre style=\"white-space:pre;overflow-x:auto;line-height:normal;font-family:Menlo,'DejaVu Sans Mono',consolas,'Courier New',monospace\">train_loss function equal <span style=\"color: #008080; text-decoration-color: #008080; font-weight: bold\">0.21324317157268524</span>\n",
       "</pre>\n"
      ],
      "text/plain": [
       "train_loss function equal \u001b[1;36m0.21324317157268524\u001b[0m\n"
      ]
     },
     "metadata": {},
     "output_type": "display_data"
    },
    {
     "name": "stdout",
     "output_type": "stream",
     "text": [
      "EPOCH: 1.000\ttrn_loss: 0.201\t(5.93s - 53.38s remaining)"
     ]
    },
    {
     "data": {
      "text/html": [
       "<pre style=\"white-space:pre;overflow-x:auto;line-height:normal;font-family:Menlo,'DejaVu Sans Mono',consolas,'Courier New',monospace\">train_loss function equal <span style=\"color: #008080; text-decoration-color: #008080; font-weight: bold\">0.1847703605890274</span>\n",
       "</pre>\n"
      ],
      "text/plain": [
       "train_loss function equal \u001b[1;36m0.1847703605890274\u001b[0m\n"
      ]
     },
     "metadata": {},
     "output_type": "display_data"
    },
    {
     "name": "stdout",
     "output_type": "stream",
     "text": [
      "EPOCH: 1.000\ttrn_loss: 0.175\t(7.03s - 63.27s remaining)"
     ]
    },
    {
     "data": {
      "text/html": [
       "<pre style=\"white-space:pre;overflow-x:auto;line-height:normal;font-family:Menlo,'DejaVu Sans Mono',consolas,'Courier New',monospace\">train_loss function equal <span style=\"color: #008080; text-decoration-color: #008080; font-weight: bold\">0.1910649538040161</span>\n",
       "</pre>\n"
      ],
      "text/plain": [
       "train_loss function equal \u001b[1;36m0.1910649538040161\u001b[0m\n"
      ]
     },
     "metadata": {},
     "output_type": "display_data"
    },
    {
     "name": "stdout",
     "output_type": "stream",
     "text": [
      "EPOCH: 1.000\ttrn_loss: 0.160\t(8.15s - 73.32s remaining)"
     ]
    },
    {
     "data": {
      "text/html": [
       "<pre style=\"white-space:pre;overflow-x:auto;line-height:normal;font-family:Menlo,'DejaVu Sans Mono',consolas,'Courier New',monospace\">train_loss function equal <span style=\"color: #008080; text-decoration-color: #008080; font-weight: bold\">0.1728561967611313</span>\n",
       "</pre>\n"
      ],
      "text/plain": [
       "train_loss function equal \u001b[1;36m0.1728561967611313\u001b[0m\n"
      ]
     },
     "metadata": {},
     "output_type": "display_data"
    },
    {
     "name": "stdout",
     "output_type": "stream",
     "text": [
      "EPOCH: 1.000\ttrn_loss: 0.157\t(9.32s - 83.86s remaining)"
     ]
    },
    {
     "data": {
      "text/html": [
       "<pre style=\"white-space:pre;overflow-x:auto;line-height:normal;font-family:Menlo,'DejaVu Sans Mono',consolas,'Courier New',monospace\">train_loss function equal <span style=\"color: #008080; text-decoration-color: #008080; font-weight: bold\">0.15869779884815216</span>\n",
       "</pre>\n"
      ],
      "text/plain": [
       "train_loss function equal \u001b[1;36m0.15869779884815216\u001b[0m\n"
      ]
     },
     "metadata": {},
     "output_type": "display_data"
    },
    {
     "name": "stdout",
     "output_type": "stream",
     "text": [
      "EPOCH: 1.000\ttrn_loss: 0.150\t(10.45s - 94.08s remaining)"
     ]
    },
    {
     "data": {
      "text/html": [
       "<pre style=\"white-space:pre;overflow-x:auto;line-height:normal;font-family:Menlo,'DejaVu Sans Mono',consolas,'Courier New',monospace\">train_loss function equal <span style=\"color: #008080; text-decoration-color: #008080; font-weight: bold\">0.14921420812606812</span>\n",
       "</pre>\n"
      ],
      "text/plain": [
       "train_loss function equal \u001b[1;36m0.14921420812606812\u001b[0m\n"
      ]
     },
     "metadata": {},
     "output_type": "display_data"
    },
    {
     "name": "stdout",
     "output_type": "stream",
     "text": [
      "EPOCH: 1.000\ttrn_loss: 0.151\t(10.88s - 97.95s remaining)"
     ]
    },
    {
     "data": {
      "text/html": [
       "<pre style=\"white-space:pre;overflow-x:auto;line-height:normal;font-family:Menlo,'DejaVu Sans Mono',consolas,'Courier New',monospace\">val_loss function equal <span style=\"color: #008080; text-decoration-color: #008080; font-weight: bold\">0.14813144505023956</span>\n",
       "</pre>\n"
      ],
      "text/plain": [
       "val_loss function equal \u001b[1;36m0.14813144505023956\u001b[0m\n"
      ]
     },
     "metadata": {},
     "output_type": "display_data"
    },
    {
     "name": "stdout",
     "output_type": "stream",
     "text": [
      "EPOCH: 1.000\tval_loss: 0.150\t(11.92s - 107.26s remaining)"
     ]
    },
    {
     "data": {
      "text/html": [
       "<pre style=\"white-space:pre;overflow-x:auto;line-height:normal;font-family:Menlo,'DejaVu Sans Mono',consolas,'Courier New',monospace\">val_loss function equal <span style=\"color: #008080; text-decoration-color: #008080; font-weight: bold\">0.1471039056777954</span>\n",
       "</pre>\n"
      ],
      "text/plain": [
       "val_loss function equal \u001b[1;36m0.1471039056777954\u001b[0m\n"
      ]
     },
     "metadata": {},
     "output_type": "display_data"
    },
    {
     "name": "stdout",
     "output_type": "stream",
     "text": [
      "EPOCH: 1.000\ttrn_loss: nan\tval_loss: nan\t(12.51s - 112.57s remaining)\n"
     ]
    },
    {
     "name": "stderr",
     "output_type": "stream",
     "text": [
      "/home/yubaes/anaconda3/envs/DL/lib/python3.7/site-packages/numpy/core/fromnumeric.py:3441: RuntimeWarning: Mean of empty slice.\n",
      "  out=out, **kwargs)\n",
      "/home/yubaes/anaconda3/envs/DL/lib/python3.7/site-packages/numpy/core/_methods.py:189: RuntimeWarning: invalid value encountered in double_scalars\n",
      "  ret = ret.dtype.type(ret / rcount)\n"
     ]
    },
    {
     "data": {
      "text/html": [
       "<pre style=\"white-space:pre;overflow-x:auto;line-height:normal;font-family:Menlo,'DejaVu Sans Mono',consolas,'Courier New',monospace\">train_loss function equal <span style=\"color: #008080; text-decoration-color: #008080; font-weight: bold\">0.14328981935977936</span>\n",
       "</pre>\n"
      ],
      "text/plain": [
       "train_loss function equal \u001b[1;36m0.14328981935977936\u001b[0m\n"
      ]
     },
     "metadata": {},
     "output_type": "display_data"
    },
    {
     "name": "stdout",
     "output_type": "stream",
     "text": [
      "EPOCH: 2.000\ttrn_loss: 0.147\t(13.65s - 54.60s remaining)"
     ]
    },
    {
     "data": {
      "text/html": [
       "<pre style=\"white-space:pre;overflow-x:auto;line-height:normal;font-family:Menlo,'DejaVu Sans Mono',consolas,'Courier New',monospace\">train_loss function equal <span style=\"color: #008080; text-decoration-color: #008080; font-weight: bold\">0.1477670669555664</span>\n",
       "</pre>\n"
      ],
      "text/plain": [
       "train_loss function equal \u001b[1;36m0.1477670669555664\u001b[0m\n"
      ]
     },
     "metadata": {},
     "output_type": "display_data"
    },
    {
     "name": "stdout",
     "output_type": "stream",
     "text": [
      "EPOCH: 2.000\ttrn_loss: 0.146\t(14.81s - 59.25s remaining)"
     ]
    },
    {
     "data": {
      "text/html": [
       "<pre style=\"white-space:pre;overflow-x:auto;line-height:normal;font-family:Menlo,'DejaVu Sans Mono',consolas,'Courier New',monospace\">train_loss function equal <span style=\"color: #008080; text-decoration-color: #008080; font-weight: bold\">0.1345410943031311</span>\n",
       "</pre>\n"
      ],
      "text/plain": [
       "train_loss function equal \u001b[1;36m0.1345410943031311\u001b[0m\n"
      ]
     },
     "metadata": {},
     "output_type": "display_data"
    },
    {
     "name": "stdout",
     "output_type": "stream",
     "text": [
      "EPOCH: 2.000\ttrn_loss: 0.136\t(15.98s - 63.93s remaining)"
     ]
    },
    {
     "data": {
      "text/html": [
       "<pre style=\"white-space:pre;overflow-x:auto;line-height:normal;font-family:Menlo,'DejaVu Sans Mono',consolas,'Courier New',monospace\">train_loss function equal <span style=\"color: #008080; text-decoration-color: #008080; font-weight: bold\">0.13478049635887146</span>\n",
       "</pre>\n"
      ],
      "text/plain": [
       "train_loss function equal \u001b[1;36m0.13478049635887146\u001b[0m\n"
      ]
     },
     "metadata": {},
     "output_type": "display_data"
    },
    {
     "name": "stdout",
     "output_type": "stream",
     "text": [
      "EPOCH: 2.000\ttrn_loss: 0.136\t(17.12s - 68.48s remaining)"
     ]
    },
    {
     "data": {
      "text/html": [
       "<pre style=\"white-space:pre;overflow-x:auto;line-height:normal;font-family:Menlo,'DejaVu Sans Mono',consolas,'Courier New',monospace\">train_loss function equal <span style=\"color: #008080; text-decoration-color: #008080; font-weight: bold\">0.1308978945016861</span>\n",
       "</pre>\n"
      ],
      "text/plain": [
       "train_loss function equal \u001b[1;36m0.1308978945016861\u001b[0m\n"
      ]
     },
     "metadata": {},
     "output_type": "display_data"
    },
    {
     "name": "stdout",
     "output_type": "stream",
     "text": [
      "EPOCH: 2.000\ttrn_loss: 0.129\t(18.32s - 73.28s remaining)"
     ]
    },
    {
     "data": {
      "text/html": [
       "<pre style=\"white-space:pre;overflow-x:auto;line-height:normal;font-family:Menlo,'DejaVu Sans Mono',consolas,'Courier New',monospace\">train_loss function equal <span style=\"color: #008080; text-decoration-color: #008080; font-weight: bold\">0.14096462726593018</span>\n",
       "</pre>\n"
      ],
      "text/plain": [
       "train_loss function equal \u001b[1;36m0.14096462726593018\u001b[0m\n"
      ]
     },
     "metadata": {},
     "output_type": "display_data"
    },
    {
     "name": "stdout",
     "output_type": "stream",
     "text": [
      "EPOCH: 2.000\ttrn_loss: 0.115\t(19.47s - 77.90s remaining)"
     ]
    },
    {
     "data": {
      "text/html": [
       "<pre style=\"white-space:pre;overflow-x:auto;line-height:normal;font-family:Menlo,'DejaVu Sans Mono',consolas,'Courier New',monospace\">train_loss function equal <span style=\"color: #008080; text-decoration-color: #008080; font-weight: bold\">0.11720293015241623</span>\n",
       "</pre>\n"
      ],
      "text/plain": [
       "train_loss function equal \u001b[1;36m0.11720293015241623\u001b[0m\n"
      ]
     },
     "metadata": {},
     "output_type": "display_data"
    },
    {
     "name": "stdout",
     "output_type": "stream",
     "text": [
      "EPOCH: 2.000\ttrn_loss: 0.123\t(20.63s - 82.52s remaining)"
     ]
    },
    {
     "data": {
      "text/html": [
       "<pre style=\"white-space:pre;overflow-x:auto;line-height:normal;font-family:Menlo,'DejaVu Sans Mono',consolas,'Courier New',monospace\">train_loss function equal <span style=\"color: #008080; text-decoration-color: #008080; font-weight: bold\">0.12935711443424225</span>\n",
       "</pre>\n"
      ],
      "text/plain": [
       "train_loss function equal \u001b[1;36m0.12935711443424225\u001b[0m\n"
      ]
     },
     "metadata": {},
     "output_type": "display_data"
    },
    {
     "name": "stdout",
     "output_type": "stream",
     "text": [
      "EPOCH: 2.000\ttrn_loss: 0.130\t(21.84s - 87.35s remaining)"
     ]
    },
    {
     "data": {
      "text/html": [
       "<pre style=\"white-space:pre;overflow-x:auto;line-height:normal;font-family:Menlo,'DejaVu Sans Mono',consolas,'Courier New',monospace\">train_loss function equal <span style=\"color: #008080; text-decoration-color: #008080; font-weight: bold\">0.12468168139457703</span>\n",
       "</pre>\n"
      ],
      "text/plain": [
       "train_loss function equal \u001b[1;36m0.12468168139457703\u001b[0m\n"
      ]
     },
     "metadata": {},
     "output_type": "display_data"
    },
    {
     "name": "stdout",
     "output_type": "stream",
     "text": [
      "EPOCH: 2.000\ttrn_loss: 0.114\t(23.10s - 92.42s remaining)"
     ]
    },
    {
     "data": {
      "text/html": [
       "<pre style=\"white-space:pre;overflow-x:auto;line-height:normal;font-family:Menlo,'DejaVu Sans Mono',consolas,'Courier New',monospace\">train_loss function equal <span style=\"color: #008080; text-decoration-color: #008080; font-weight: bold\">0.11623217165470123</span>\n",
       "</pre>\n"
      ],
      "text/plain": [
       "train_loss function equal \u001b[1;36m0.11623217165470123\u001b[0m\n"
      ]
     },
     "metadata": {},
     "output_type": "display_data"
    },
    {
     "name": "stdout",
     "output_type": "stream",
     "text": [
      "EPOCH: 2.000\ttrn_loss: 0.128\t(23.52s - 94.08s remaining)"
     ]
    },
    {
     "data": {
      "text/html": [
       "<pre style=\"white-space:pre;overflow-x:auto;line-height:normal;font-family:Menlo,'DejaVu Sans Mono',consolas,'Courier New',monospace\">val_loss function equal <span style=\"color: #008080; text-decoration-color: #008080; font-weight: bold\">0.1208600178360939</span>\n",
       "</pre>\n"
      ],
      "text/plain": [
       "val_loss function equal \u001b[1;36m0.1208600178360939\u001b[0m\n"
      ]
     },
     "metadata": {},
     "output_type": "display_data"
    },
    {
     "name": "stdout",
     "output_type": "stream",
     "text": [
      "EPOCH: 2.000\tval_loss: 0.122\t(24.52s - 98.09s remaining)"
     ]
    },
    {
     "data": {
      "text/html": [
       "<pre style=\"white-space:pre;overflow-x:auto;line-height:normal;font-family:Menlo,'DejaVu Sans Mono',consolas,'Courier New',monospace\">val_loss function equal <span style=\"color: #008080; text-decoration-color: #008080; font-weight: bold\">0.11990819126367569</span>\n",
       "</pre>\n"
      ],
      "text/plain": [
       "val_loss function equal \u001b[1;36m0.11990819126367569\u001b[0m\n"
      ]
     },
     "metadata": {},
     "output_type": "display_data"
    },
    {
     "name": "stdout",
     "output_type": "stream",
     "text": [
      "EPOCH: 2.000\ttrn_loss: 0.226\tval_loss: 0.147\t(25.13s - 100.53s remaining)\n"
     ]
    },
    {
     "data": {
      "text/html": [
       "<pre style=\"white-space:pre;overflow-x:auto;line-height:normal;font-family:Menlo,'DejaVu Sans Mono',consolas,'Courier New',monospace\">train_loss function equal <span style=\"color: #008080; text-decoration-color: #008080; font-weight: bold\">0.11611617356538773</span>\n",
       "</pre>\n"
      ],
      "text/plain": [
       "train_loss function equal \u001b[1;36m0.11611617356538773\u001b[0m\n"
      ]
     },
     "metadata": {},
     "output_type": "display_data"
    },
    {
     "name": "stdout",
     "output_type": "stream",
     "text": [
      "EPOCH: 3.000\ttrn_loss: 0.112\t(26.29s - 61.35s remaining)"
     ]
    },
    {
     "data": {
      "text/html": [
       "<pre style=\"white-space:pre;overflow-x:auto;line-height:normal;font-family:Menlo,'DejaVu Sans Mono',consolas,'Courier New',monospace\">train_loss function equal <span style=\"color: #008080; text-decoration-color: #008080; font-weight: bold\">0.11933226138353348</span>\n",
       "</pre>\n"
      ],
      "text/plain": [
       "train_loss function equal \u001b[1;36m0.11933226138353348\u001b[0m\n"
      ]
     },
     "metadata": {},
     "output_type": "display_data"
    },
    {
     "name": "stdout",
     "output_type": "stream",
     "text": [
      "EPOCH: 3.000\ttrn_loss: 0.124\t(27.47s - 64.10s remaining)"
     ]
    },
    {
     "data": {
      "text/html": [
       "<pre style=\"white-space:pre;overflow-x:auto;line-height:normal;font-family:Menlo,'DejaVu Sans Mono',consolas,'Courier New',monospace\">train_loss function equal <span style=\"color: #008080; text-decoration-color: #008080; font-weight: bold\">0.11281440407037735</span>\n",
       "</pre>\n"
      ],
      "text/plain": [
       "train_loss function equal \u001b[1;36m0.11281440407037735\u001b[0m\n"
      ]
     },
     "metadata": {},
     "output_type": "display_data"
    },
    {
     "name": "stdout",
     "output_type": "stream",
     "text": [
      "EPOCH: 3.000\ttrn_loss: 0.117\t(28.61s - 66.77s remaining)"
     ]
    },
    {
     "data": {
      "text/html": [
       "<pre style=\"white-space:pre;overflow-x:auto;line-height:normal;font-family:Menlo,'DejaVu Sans Mono',consolas,'Courier New',monospace\">train_loss function equal <span style=\"color: #008080; text-decoration-color: #008080; font-weight: bold\">0.11092501133680344</span>\n",
       "</pre>\n"
      ],
      "text/plain": [
       "train_loss function equal \u001b[1;36m0.11092501133680344\u001b[0m\n"
      ]
     },
     "metadata": {},
     "output_type": "display_data"
    },
    {
     "name": "stdout",
     "output_type": "stream",
     "text": [
      "EPOCH: 3.000\ttrn_loss: 0.119\t(29.79s - 69.51s remaining)"
     ]
    },
    {
     "data": {
      "text/html": [
       "<pre style=\"white-space:pre;overflow-x:auto;line-height:normal;font-family:Menlo,'DejaVu Sans Mono',consolas,'Courier New',monospace\">train_loss function equal <span style=\"color: #008080; text-decoration-color: #008080; font-weight: bold\">0.11503912508487701</span>\n",
       "</pre>\n"
      ],
      "text/plain": [
       "train_loss function equal \u001b[1;36m0.11503912508487701\u001b[0m\n"
      ]
     },
     "metadata": {},
     "output_type": "display_data"
    },
    {
     "name": "stdout",
     "output_type": "stream",
     "text": [
      "EPOCH: 3.000\ttrn_loss: 0.117\t(30.96s - 72.24s remaining)"
     ]
    },
    {
     "data": {
      "text/html": [
       "<pre style=\"white-space:pre;overflow-x:auto;line-height:normal;font-family:Menlo,'DejaVu Sans Mono',consolas,'Courier New',monospace\">train_loss function equal <span style=\"color: #008080; text-decoration-color: #008080; font-weight: bold\">0.11468400806188583</span>\n",
       "</pre>\n"
      ],
      "text/plain": [
       "train_loss function equal \u001b[1;36m0.11468400806188583\u001b[0m\n"
      ]
     },
     "metadata": {},
     "output_type": "display_data"
    },
    {
     "name": "stdout",
     "output_type": "stream",
     "text": [
      "EPOCH: 3.000\ttrn_loss: 0.105\t(32.11s - 74.92s remaining)"
     ]
    },
    {
     "data": {
      "text/html": [
       "<pre style=\"white-space:pre;overflow-x:auto;line-height:normal;font-family:Menlo,'DejaVu Sans Mono',consolas,'Courier New',monospace\">train_loss function equal <span style=\"color: #008080; text-decoration-color: #008080; font-weight: bold\">0.11433712393045425</span>\n",
       "</pre>\n"
      ],
      "text/plain": [
       "train_loss function equal \u001b[1;36m0.11433712393045425\u001b[0m\n"
      ]
     },
     "metadata": {},
     "output_type": "display_data"
    },
    {
     "name": "stdout",
     "output_type": "stream",
     "text": [
      "EPOCH: 3.000\ttrn_loss: 0.111\t(33.28s - 77.65s remaining)"
     ]
    },
    {
     "data": {
      "text/html": [
       "<pre style=\"white-space:pre;overflow-x:auto;line-height:normal;font-family:Menlo,'DejaVu Sans Mono',consolas,'Courier New',monospace\">train_loss function equal <span style=\"color: #008080; text-decoration-color: #008080; font-weight: bold\">0.11906757950782776</span>\n",
       "</pre>\n"
      ],
      "text/plain": [
       "train_loss function equal \u001b[1;36m0.11906757950782776\u001b[0m\n"
      ]
     },
     "metadata": {},
     "output_type": "display_data"
    },
    {
     "name": "stdout",
     "output_type": "stream",
     "text": [
      "EPOCH: 3.000\ttrn_loss: 0.111\t(34.44s - 80.35s remaining)"
     ]
    },
    {
     "data": {
      "text/html": [
       "<pre style=\"white-space:pre;overflow-x:auto;line-height:normal;font-family:Menlo,'DejaVu Sans Mono',consolas,'Courier New',monospace\">train_loss function equal <span style=\"color: #008080; text-decoration-color: #008080; font-weight: bold\">0.11609646677970886</span>\n",
       "</pre>\n"
      ],
      "text/plain": [
       "train_loss function equal \u001b[1;36m0.11609646677970886\u001b[0m\n"
      ]
     },
     "metadata": {},
     "output_type": "display_data"
    },
    {
     "name": "stdout",
     "output_type": "stream",
     "text": [
      "EPOCH: 3.000\ttrn_loss: 0.110\t(35.55s - 82.96s remaining)"
     ]
    },
    {
     "data": {
      "text/html": [
       "<pre style=\"white-space:pre;overflow-x:auto;line-height:normal;font-family:Menlo,'DejaVu Sans Mono',consolas,'Courier New',monospace\">train_loss function equal <span style=\"color: #008080; text-decoration-color: #008080; font-weight: bold\">0.10739661008119583</span>\n",
       "</pre>\n"
      ],
      "text/plain": [
       "train_loss function equal \u001b[1;36m0.10739661008119583\u001b[0m\n"
      ]
     },
     "metadata": {},
     "output_type": "display_data"
    },
    {
     "name": "stdout",
     "output_type": "stream",
     "text": [
      "EPOCH: 3.000\ttrn_loss: 0.110\t(35.99s - 83.99s remaining)"
     ]
    },
    {
     "data": {
      "text/html": [
       "<pre style=\"white-space:pre;overflow-x:auto;line-height:normal;font-family:Menlo,'DejaVu Sans Mono',consolas,'Courier New',monospace\">val_loss function equal <span style=\"color: #008080; text-decoration-color: #008080; font-weight: bold\">0.11058703064918518</span>\n",
       "</pre>\n"
      ],
      "text/plain": [
       "val_loss function equal \u001b[1;36m0.11058703064918518\u001b[0m\n"
      ]
     },
     "metadata": {},
     "output_type": "display_data"
    },
    {
     "name": "stdout",
     "output_type": "stream",
     "text": [
      "EPOCH: 3.000\tval_loss: 0.111\t(37.04s - 86.42s remaining)"
     ]
    },
    {
     "data": {
      "text/html": [
       "<pre style=\"white-space:pre;overflow-x:auto;line-height:normal;font-family:Menlo,'DejaVu Sans Mono',consolas,'Courier New',monospace\">val_loss function equal <span style=\"color: #008080; text-decoration-color: #008080; font-weight: bold\">0.10571728646755219</span>\n",
       "</pre>\n"
      ],
      "text/plain": [
       "val_loss function equal \u001b[1;36m0.10571728646755219\u001b[0m\n"
      ]
     },
     "metadata": {},
     "output_type": "display_data"
    },
    {
     "name": "stdout",
     "output_type": "stream",
     "text": [
      "EPOCH: 3.000\ttrn_loss: 0.131\tval_loss: 0.120\t(37.62s - 87.78s remaining)\n"
     ]
    },
    {
     "data": {
      "text/html": [
       "<pre style=\"white-space:pre;overflow-x:auto;line-height:normal;font-family:Menlo,'DejaVu Sans Mono',consolas,'Courier New',monospace\">train_loss function equal <span style=\"color: #008080; text-decoration-color: #008080; font-weight: bold\">0.10346594452857971</span>\n",
       "</pre>\n"
      ],
      "text/plain": [
       "train_loss function equal \u001b[1;36m0.10346594452857971\u001b[0m\n"
      ]
     },
     "metadata": {},
     "output_type": "display_data"
    },
    {
     "name": "stdout",
     "output_type": "stream",
     "text": [
      "EPOCH: 4.000\ttrn_loss: 0.104\t(38.82s - 58.23s remaining)"
     ]
    },
    {
     "data": {
      "text/html": [
       "<pre style=\"white-space:pre;overflow-x:auto;line-height:normal;font-family:Menlo,'DejaVu Sans Mono',consolas,'Courier New',monospace\">train_loss function equal <span style=\"color: #008080; text-decoration-color: #008080; font-weight: bold\">0.10962404310703278</span>\n",
       "</pre>\n"
      ],
      "text/plain": [
       "train_loss function equal \u001b[1;36m0.10962404310703278\u001b[0m\n"
      ]
     },
     "metadata": {},
     "output_type": "display_data"
    },
    {
     "name": "stdout",
     "output_type": "stream",
     "text": [
      "EPOCH: 4.000\ttrn_loss: 0.109\t(39.92s - 59.89s remaining)"
     ]
    },
    {
     "data": {
      "text/html": [
       "<pre style=\"white-space:pre;overflow-x:auto;line-height:normal;font-family:Menlo,'DejaVu Sans Mono',consolas,'Courier New',monospace\">train_loss function equal <span style=\"color: #008080; text-decoration-color: #008080; font-weight: bold\">0.11011309921741486</span>\n",
       "</pre>\n"
      ],
      "text/plain": [
       "train_loss function equal \u001b[1;36m0.11011309921741486\u001b[0m\n"
      ]
     },
     "metadata": {},
     "output_type": "display_data"
    },
    {
     "name": "stdout",
     "output_type": "stream",
     "text": [
      "EPOCH: 4.000\ttrn_loss: 0.101\t(41.06s - 61.58s remaining)"
     ]
    },
    {
     "data": {
      "text/html": [
       "<pre style=\"white-space:pre;overflow-x:auto;line-height:normal;font-family:Menlo,'DejaVu Sans Mono',consolas,'Courier New',monospace\">train_loss function equal <span style=\"color: #008080; text-decoration-color: #008080; font-weight: bold\">0.11444000154733658</span>\n",
       "</pre>\n"
      ],
      "text/plain": [
       "train_loss function equal \u001b[1;36m0.11444000154733658\u001b[0m\n"
      ]
     },
     "metadata": {},
     "output_type": "display_data"
    },
    {
     "name": "stdout",
     "output_type": "stream",
     "text": [
      "EPOCH: 4.000\ttrn_loss: 0.109\t(42.19s - 63.29s remaining)"
     ]
    },
    {
     "data": {
      "text/html": [
       "<pre style=\"white-space:pre;overflow-x:auto;line-height:normal;font-family:Menlo,'DejaVu Sans Mono',consolas,'Courier New',monospace\">train_loss function equal <span style=\"color: #008080; text-decoration-color: #008080; font-weight: bold\">0.11523699760437012</span>\n",
       "</pre>\n"
      ],
      "text/plain": [
       "train_loss function equal \u001b[1;36m0.11523699760437012\u001b[0m\n"
      ]
     },
     "metadata": {},
     "output_type": "display_data"
    },
    {
     "name": "stdout",
     "output_type": "stream",
     "text": [
      "EPOCH: 4.000\ttrn_loss: 0.108\t(43.33s - 64.99s remaining)"
     ]
    },
    {
     "data": {
      "text/html": [
       "<pre style=\"white-space:pre;overflow-x:auto;line-height:normal;font-family:Menlo,'DejaVu Sans Mono',consolas,'Courier New',monospace\">train_loss function equal <span style=\"color: #008080; text-decoration-color: #008080; font-weight: bold\">0.1081070750951767</span>\n",
       "</pre>\n"
      ],
      "text/plain": [
       "train_loss function equal \u001b[1;36m0.1081070750951767\u001b[0m\n"
      ]
     },
     "metadata": {},
     "output_type": "display_data"
    },
    {
     "name": "stdout",
     "output_type": "stream",
     "text": [
      "EPOCH: 4.000\ttrn_loss: 0.115\t(44.47s - 66.71s remaining)"
     ]
    },
    {
     "data": {
      "text/html": [
       "<pre style=\"white-space:pre;overflow-x:auto;line-height:normal;font-family:Menlo,'DejaVu Sans Mono',consolas,'Courier New',monospace\">train_loss function equal <span style=\"color: #008080; text-decoration-color: #008080; font-weight: bold\">0.10008520632982254</span>\n",
       "</pre>\n"
      ],
      "text/plain": [
       "train_loss function equal \u001b[1;36m0.10008520632982254\u001b[0m\n"
      ]
     },
     "metadata": {},
     "output_type": "display_data"
    },
    {
     "name": "stdout",
     "output_type": "stream",
     "text": [
      "EPOCH: 4.000\ttrn_loss: 0.103\t(45.65s - 68.47s remaining)"
     ]
    },
    {
     "data": {
      "text/html": [
       "<pre style=\"white-space:pre;overflow-x:auto;line-height:normal;font-family:Menlo,'DejaVu Sans Mono',consolas,'Courier New',monospace\">train_loss function equal <span style=\"color: #008080; text-decoration-color: #008080; font-weight: bold\">0.1035369262099266</span>\n",
       "</pre>\n"
      ],
      "text/plain": [
       "train_loss function equal \u001b[1;36m0.1035369262099266\u001b[0m\n"
      ]
     },
     "metadata": {},
     "output_type": "display_data"
    },
    {
     "name": "stdout",
     "output_type": "stream",
     "text": [
      "EPOCH: 4.000\ttrn_loss: 0.105\t(46.85s - 70.27s remaining)"
     ]
    },
    {
     "data": {
      "text/html": [
       "<pre style=\"white-space:pre;overflow-x:auto;line-height:normal;font-family:Menlo,'DejaVu Sans Mono',consolas,'Courier New',monospace\">train_loss function equal <span style=\"color: #008080; text-decoration-color: #008080; font-weight: bold\">0.10909975320100784</span>\n",
       "</pre>\n"
      ],
      "text/plain": [
       "train_loss function equal \u001b[1;36m0.10909975320100784\u001b[0m\n"
      ]
     },
     "metadata": {},
     "output_type": "display_data"
    },
    {
     "name": "stdout",
     "output_type": "stream",
     "text": [
      "EPOCH: 4.000\ttrn_loss: 0.114\t(48.05s - 72.08s remaining)"
     ]
    },
    {
     "data": {
      "text/html": [
       "<pre style=\"white-space:pre;overflow-x:auto;line-height:normal;font-family:Menlo,'DejaVu Sans Mono',consolas,'Courier New',monospace\">train_loss function equal <span style=\"color: #008080; text-decoration-color: #008080; font-weight: bold\">0.11383800208568573</span>\n",
       "</pre>\n"
      ],
      "text/plain": [
       "train_loss function equal \u001b[1;36m0.11383800208568573\u001b[0m\n"
      ]
     },
     "metadata": {},
     "output_type": "display_data"
    },
    {
     "name": "stdout",
     "output_type": "stream",
     "text": [
      "EPOCH: 4.000\ttrn_loss: 0.099\t(48.49s - 72.74s remaining)"
     ]
    },
    {
     "data": {
      "text/html": [
       "<pre style=\"white-space:pre;overflow-x:auto;line-height:normal;font-family:Menlo,'DejaVu Sans Mono',consolas,'Courier New',monospace\">val_loss function equal <span style=\"color: #008080; text-decoration-color: #008080; font-weight: bold\">0.1061764732003212</span>\n",
       "</pre>\n"
      ],
      "text/plain": [
       "val_loss function equal \u001b[1;36m0.1061764732003212\u001b[0m\n"
      ]
     },
     "metadata": {},
     "output_type": "display_data"
    },
    {
     "name": "stdout",
     "output_type": "stream",
     "text": [
      "EPOCH: 4.000\tval_loss: 0.107\t(49.57s - 74.36s remaining)"
     ]
    },
    {
     "data": {
      "text/html": [
       "<pre style=\"white-space:pre;overflow-x:auto;line-height:normal;font-family:Menlo,'DejaVu Sans Mono',consolas,'Courier New',monospace\">val_loss function equal <span style=\"color: #008080; text-decoration-color: #008080; font-weight: bold\">0.10344032198190689</span>\n",
       "</pre>\n"
      ],
      "text/plain": [
       "val_loss function equal \u001b[1;36m0.10344032198190689\u001b[0m\n"
      ]
     },
     "metadata": {},
     "output_type": "display_data"
    },
    {
     "name": "stdout",
     "output_type": "stream",
     "text": [
      "EPOCH: 4.000\ttrn_loss: 0.115\tval_loss: 0.108\t(50.20s - 75.29s remaining)\n"
     ]
    },
    {
     "data": {
      "text/html": [
       "<pre style=\"white-space:pre;overflow-x:auto;line-height:normal;font-family:Menlo,'DejaVu Sans Mono',consolas,'Courier New',monospace\">train_loss function equal <span style=\"color: #008080; text-decoration-color: #008080; font-weight: bold\">0.10222450643777847</span>\n",
       "</pre>\n"
      ],
      "text/plain": [
       "train_loss function equal \u001b[1;36m0.10222450643777847\u001b[0m\n"
      ]
     },
     "metadata": {},
     "output_type": "display_data"
    },
    {
     "name": "stdout",
     "output_type": "stream",
     "text": [
      "EPOCH: 5.000\ttrn_loss: 0.104\t(51.40s - 51.40s remaining)"
     ]
    },
    {
     "data": {
      "text/html": [
       "<pre style=\"white-space:pre;overflow-x:auto;line-height:normal;font-family:Menlo,'DejaVu Sans Mono',consolas,'Courier New',monospace\">train_loss function equal <span style=\"color: #008080; text-decoration-color: #008080; font-weight: bold\">0.10524381697177887</span>\n",
       "</pre>\n"
      ],
      "text/plain": [
       "train_loss function equal \u001b[1;36m0.10524381697177887\u001b[0m\n"
      ]
     },
     "metadata": {},
     "output_type": "display_data"
    },
    {
     "name": "stdout",
     "output_type": "stream",
     "text": [
      "EPOCH: 5.000\ttrn_loss: 0.101\t(52.61s - 52.61s remaining)"
     ]
    },
    {
     "data": {
      "text/html": [
       "<pre style=\"white-space:pre;overflow-x:auto;line-height:normal;font-family:Menlo,'DejaVu Sans Mono',consolas,'Courier New',monospace\">train_loss function equal <span style=\"color: #008080; text-decoration-color: #008080; font-weight: bold\">0.09792687743902206</span>\n",
       "</pre>\n"
      ],
      "text/plain": [
       "train_loss function equal \u001b[1;36m0.09792687743902206\u001b[0m\n"
      ]
     },
     "metadata": {},
     "output_type": "display_data"
    },
    {
     "name": "stdout",
     "output_type": "stream",
     "text": [
      "EPOCH: 5.000\ttrn_loss: 0.111\t(53.81s - 53.81s remaining)"
     ]
    },
    {
     "data": {
      "text/html": [
       "<pre style=\"white-space:pre;overflow-x:auto;line-height:normal;font-family:Menlo,'DejaVu Sans Mono',consolas,'Courier New',monospace\">train_loss function equal <span style=\"color: #008080; text-decoration-color: #008080; font-weight: bold\">0.10712019354104996</span>\n",
       "</pre>\n"
      ],
      "text/plain": [
       "train_loss function equal \u001b[1;36m0.10712019354104996\u001b[0m\n"
      ]
     },
     "metadata": {},
     "output_type": "display_data"
    },
    {
     "name": "stdout",
     "output_type": "stream",
     "text": [
      "EPOCH: 5.000\ttrn_loss: 0.108\t(54.98s - 54.98s remaining)"
     ]
    },
    {
     "data": {
      "text/html": [
       "<pre style=\"white-space:pre;overflow-x:auto;line-height:normal;font-family:Menlo,'DejaVu Sans Mono',consolas,'Courier New',monospace\">train_loss function equal <span style=\"color: #008080; text-decoration-color: #008080; font-weight: bold\">0.1161179393529892</span>\n",
       "</pre>\n"
      ],
      "text/plain": [
       "train_loss function equal \u001b[1;36m0.1161179393529892\u001b[0m\n"
      ]
     },
     "metadata": {},
     "output_type": "display_data"
    },
    {
     "name": "stdout",
     "output_type": "stream",
     "text": [
      "EPOCH: 5.000\ttrn_loss: 0.102\t(56.13s - 56.13s remaining)"
     ]
    },
    {
     "data": {
      "text/html": [
       "<pre style=\"white-space:pre;overflow-x:auto;line-height:normal;font-family:Menlo,'DejaVu Sans Mono',consolas,'Courier New',monospace\">train_loss function equal <span style=\"color: #008080; text-decoration-color: #008080; font-weight: bold\">0.10641442984342575</span>\n",
       "</pre>\n"
      ],
      "text/plain": [
       "train_loss function equal \u001b[1;36m0.10641442984342575\u001b[0m\n"
      ]
     },
     "metadata": {},
     "output_type": "display_data"
    },
    {
     "name": "stdout",
     "output_type": "stream",
     "text": [
      "EPOCH: 5.000\ttrn_loss: 0.099\t(57.32s - 57.32s remaining)"
     ]
    },
    {
     "data": {
      "text/html": [
       "<pre style=\"white-space:pre;overflow-x:auto;line-height:normal;font-family:Menlo,'DejaVu Sans Mono',consolas,'Courier New',monospace\">train_loss function equal <span style=\"color: #008080; text-decoration-color: #008080; font-weight: bold\">0.09586857259273529</span>\n",
       "</pre>\n"
      ],
      "text/plain": [
       "train_loss function equal \u001b[1;36m0.09586857259273529\u001b[0m\n"
      ]
     },
     "metadata": {},
     "output_type": "display_data"
    },
    {
     "name": "stdout",
     "output_type": "stream",
     "text": [
      "EPOCH: 5.000\ttrn_loss: 0.102\t(58.56s - 58.56s remaining)"
     ]
    },
    {
     "data": {
      "text/html": [
       "<pre style=\"white-space:pre;overflow-x:auto;line-height:normal;font-family:Menlo,'DejaVu Sans Mono',consolas,'Courier New',monospace\">train_loss function equal <span style=\"color: #008080; text-decoration-color: #008080; font-weight: bold\">0.10010448843240738</span>\n",
       "</pre>\n"
      ],
      "text/plain": [
       "train_loss function equal \u001b[1;36m0.10010448843240738\u001b[0m\n"
      ]
     },
     "metadata": {},
     "output_type": "display_data"
    },
    {
     "name": "stdout",
     "output_type": "stream",
     "text": [
      "EPOCH: 5.000\ttrn_loss: 0.109\t(59.74s - 59.74s remaining)"
     ]
    },
    {
     "data": {
      "text/html": [
       "<pre style=\"white-space:pre;overflow-x:auto;line-height:normal;font-family:Menlo,'DejaVu Sans Mono',consolas,'Courier New',monospace\">train_loss function equal <span style=\"color: #008080; text-decoration-color: #008080; font-weight: bold\">0.10516670346260071</span>\n",
       "</pre>\n"
      ],
      "text/plain": [
       "train_loss function equal \u001b[1;36m0.10516670346260071\u001b[0m\n"
      ]
     },
     "metadata": {},
     "output_type": "display_data"
    },
    {
     "name": "stdout",
     "output_type": "stream",
     "text": [
      "EPOCH: 5.000\ttrn_loss: 0.104\t(60.86s - 60.86s remaining)"
     ]
    },
    {
     "data": {
      "text/html": [
       "<pre style=\"white-space:pre;overflow-x:auto;line-height:normal;font-family:Menlo,'DejaVu Sans Mono',consolas,'Courier New',monospace\">train_loss function equal <span style=\"color: #008080; text-decoration-color: #008080; font-weight: bold\">0.09897032380104065</span>\n",
       "</pre>\n"
      ],
      "text/plain": [
       "train_loss function equal \u001b[1;36m0.09897032380104065\u001b[0m\n"
      ]
     },
     "metadata": {},
     "output_type": "display_data"
    },
    {
     "name": "stdout",
     "output_type": "stream",
     "text": [
      "EPOCH: 5.000\ttrn_loss: 0.093\t(61.30s - 61.30s remaining)"
     ]
    },
    {
     "data": {
      "text/html": [
       "<pre style=\"white-space:pre;overflow-x:auto;line-height:normal;font-family:Menlo,'DejaVu Sans Mono',consolas,'Courier New',monospace\">val_loss function equal <span style=\"color: #008080; text-decoration-color: #008080; font-weight: bold\">0.10220982134342194</span>\n",
       "</pre>\n"
      ],
      "text/plain": [
       "val_loss function equal \u001b[1;36m0.10220982134342194\u001b[0m\n"
      ]
     },
     "metadata": {},
     "output_type": "display_data"
    },
    {
     "name": "stdout",
     "output_type": "stream",
     "text": [
      "EPOCH: 5.000\tval_loss: 0.104\t(62.33s - 62.33s remaining)"
     ]
    },
    {
     "data": {
      "text/html": [
       "<pre style=\"white-space:pre;overflow-x:auto;line-height:normal;font-family:Menlo,'DejaVu Sans Mono',consolas,'Courier New',monospace\">val_loss function equal <span style=\"color: #008080; text-decoration-color: #008080; font-weight: bold\">0.10118476301431656</span>\n",
       "</pre>\n"
      ],
      "text/plain": [
       "val_loss function equal \u001b[1;36m0.10118476301431656\u001b[0m\n"
      ]
     },
     "metadata": {},
     "output_type": "display_data"
    },
    {
     "name": "stdout",
     "output_type": "stream",
     "text": [
      "EPOCH: 5.000\ttrn_loss: 0.108\tval_loss: 0.104\t(62.90s - 62.90s remaining)\n"
     ]
    },
    {
     "data": {
      "text/html": [
       "<pre style=\"white-space:pre;overflow-x:auto;line-height:normal;font-family:Menlo,'DejaVu Sans Mono',consolas,'Courier New',monospace\">train_loss function equal <span style=\"color: #008080; text-decoration-color: #008080; font-weight: bold\">0.10588198155164719</span>\n",
       "</pre>\n"
      ],
      "text/plain": [
       "train_loss function equal \u001b[1;36m0.10588198155164719\u001b[0m\n"
      ]
     },
     "metadata": {},
     "output_type": "display_data"
    },
    {
     "name": "stdout",
     "output_type": "stream",
     "text": [
      "EPOCH: 6.000\ttrn_loss: 0.111\t(64.04s - 42.69s remaining)"
     ]
    },
    {
     "data": {
      "text/html": [
       "<pre style=\"white-space:pre;overflow-x:auto;line-height:normal;font-family:Menlo,'DejaVu Sans Mono',consolas,'Courier New',monospace\">train_loss function equal <span style=\"color: #008080; text-decoration-color: #008080; font-weight: bold\">0.1031152755022049</span>\n",
       "</pre>\n"
      ],
      "text/plain": [
       "train_loss function equal \u001b[1;36m0.1031152755022049\u001b[0m\n"
      ]
     },
     "metadata": {},
     "output_type": "display_data"
    },
    {
     "name": "stdout",
     "output_type": "stream",
     "text": [
      "EPOCH: 6.000\ttrn_loss: 0.106\t(65.16s - 43.44s remaining)"
     ]
    },
    {
     "data": {
      "text/html": [
       "<pre style=\"white-space:pre;overflow-x:auto;line-height:normal;font-family:Menlo,'DejaVu Sans Mono',consolas,'Courier New',monospace\">train_loss function equal <span style=\"color: #008080; text-decoration-color: #008080; font-weight: bold\">0.10335378348827362</span>\n",
       "</pre>\n"
      ],
      "text/plain": [
       "train_loss function equal \u001b[1;36m0.10335378348827362\u001b[0m\n"
      ]
     },
     "metadata": {},
     "output_type": "display_data"
    },
    {
     "name": "stdout",
     "output_type": "stream",
     "text": [
      "EPOCH: 6.000\ttrn_loss: 0.100\t(66.32s - 44.22s remaining)"
     ]
    },
    {
     "data": {
      "text/html": [
       "<pre style=\"white-space:pre;overflow-x:auto;line-height:normal;font-family:Menlo,'DejaVu Sans Mono',consolas,'Courier New',monospace\">train_loss function equal <span style=\"color: #008080; text-decoration-color: #008080; font-weight: bold\">0.10081203281879425</span>\n",
       "</pre>\n"
      ],
      "text/plain": [
       "train_loss function equal \u001b[1;36m0.10081203281879425\u001b[0m\n"
      ]
     },
     "metadata": {},
     "output_type": "display_data"
    },
    {
     "name": "stdout",
     "output_type": "stream",
     "text": [
      "EPOCH: 6.000\ttrn_loss: 0.098\t(67.46s - 44.98s remaining)"
     ]
    },
    {
     "data": {
      "text/html": [
       "<pre style=\"white-space:pre;overflow-x:auto;line-height:normal;font-family:Menlo,'DejaVu Sans Mono',consolas,'Courier New',monospace\">train_loss function equal <span style=\"color: #008080; text-decoration-color: #008080; font-weight: bold\">0.10285618901252747</span>\n",
       "</pre>\n"
      ],
      "text/plain": [
       "train_loss function equal \u001b[1;36m0.10285618901252747\u001b[0m\n"
      ]
     },
     "metadata": {},
     "output_type": "display_data"
    },
    {
     "name": "stdout",
     "output_type": "stream",
     "text": [
      "EPOCH: 6.000\ttrn_loss: 0.103\t(68.61s - 45.74s remaining)"
     ]
    },
    {
     "data": {
      "text/html": [
       "<pre style=\"white-space:pre;overflow-x:auto;line-height:normal;font-family:Menlo,'DejaVu Sans Mono',consolas,'Courier New',monospace\">train_loss function equal <span style=\"color: #008080; text-decoration-color: #008080; font-weight: bold\">0.0953013151884079</span>\n",
       "</pre>\n"
      ],
      "text/plain": [
       "train_loss function equal \u001b[1;36m0.0953013151884079\u001b[0m\n"
      ]
     },
     "metadata": {},
     "output_type": "display_data"
    },
    {
     "name": "stdout",
     "output_type": "stream",
     "text": [
      "EPOCH: 6.000\ttrn_loss: 0.097\t(69.73s - 46.49s remaining)"
     ]
    },
    {
     "data": {
      "text/html": [
       "<pre style=\"white-space:pre;overflow-x:auto;line-height:normal;font-family:Menlo,'DejaVu Sans Mono',consolas,'Courier New',monospace\">train_loss function equal <span style=\"color: #008080; text-decoration-color: #008080; font-weight: bold\">0.09761630743741989</span>\n",
       "</pre>\n"
      ],
      "text/plain": [
       "train_loss function equal \u001b[1;36m0.09761630743741989\u001b[0m\n"
      ]
     },
     "metadata": {},
     "output_type": "display_data"
    },
    {
     "name": "stdout",
     "output_type": "stream",
     "text": [
      "EPOCH: 6.000\ttrn_loss: 0.105\t(70.90s - 47.27s remaining)"
     ]
    },
    {
     "data": {
      "text/html": [
       "<pre style=\"white-space:pre;overflow-x:auto;line-height:normal;font-family:Menlo,'DejaVu Sans Mono',consolas,'Courier New',monospace\">train_loss function equal <span style=\"color: #008080; text-decoration-color: #008080; font-weight: bold\">0.09625518321990967</span>\n",
       "</pre>\n"
      ],
      "text/plain": [
       "train_loss function equal \u001b[1;36m0.09625518321990967\u001b[0m\n"
      ]
     },
     "metadata": {},
     "output_type": "display_data"
    },
    {
     "name": "stdout",
     "output_type": "stream",
     "text": [
      "EPOCH: 6.000\ttrn_loss: 0.094\t(72.06s - 48.04s remaining)"
     ]
    },
    {
     "data": {
      "text/html": [
       "<pre style=\"white-space:pre;overflow-x:auto;line-height:normal;font-family:Menlo,'DejaVu Sans Mono',consolas,'Courier New',monospace\">train_loss function equal <span style=\"color: #008080; text-decoration-color: #008080; font-weight: bold\">0.09833275526762009</span>\n",
       "</pre>\n"
      ],
      "text/plain": [
       "train_loss function equal \u001b[1;36m0.09833275526762009\u001b[0m\n"
      ]
     },
     "metadata": {},
     "output_type": "display_data"
    },
    {
     "name": "stdout",
     "output_type": "stream",
     "text": [
      "EPOCH: 6.000\ttrn_loss: 0.101\t(73.24s - 48.83s remaining)"
     ]
    },
    {
     "data": {
      "text/html": [
       "<pre style=\"white-space:pre;overflow-x:auto;line-height:normal;font-family:Menlo,'DejaVu Sans Mono',consolas,'Courier New',monospace\">train_loss function equal <span style=\"color: #008080; text-decoration-color: #008080; font-weight: bold\">0.10342537611722946</span>\n",
       "</pre>\n"
      ],
      "text/plain": [
       "train_loss function equal \u001b[1;36m0.10342537611722946\u001b[0m\n"
      ]
     },
     "metadata": {},
     "output_type": "display_data"
    },
    {
     "name": "stdout",
     "output_type": "stream",
     "text": [
      "EPOCH: 6.000\ttrn_loss: 0.097\t(73.67s - 49.12s remaining)"
     ]
    },
    {
     "data": {
      "text/html": [
       "<pre style=\"white-space:pre;overflow-x:auto;line-height:normal;font-family:Menlo,'DejaVu Sans Mono',consolas,'Courier New',monospace\">val_loss function equal <span style=\"color: #008080; text-decoration-color: #008080; font-weight: bold\">0.09847469627857208</span>\n",
       "</pre>\n"
      ],
      "text/plain": [
       "val_loss function equal \u001b[1;36m0.09847469627857208\u001b[0m\n"
      ]
     },
     "metadata": {},
     "output_type": "display_data"
    },
    {
     "name": "stdout",
     "output_type": "stream",
     "text": [
      "EPOCH: 6.000\tval_loss: 0.100\t(74.66s - 49.78s remaining)"
     ]
    },
    {
     "data": {
      "text/html": [
       "<pre style=\"white-space:pre;overflow-x:auto;line-height:normal;font-family:Menlo,'DejaVu Sans Mono',consolas,'Courier New',monospace\">val_loss function equal <span style=\"color: #008080; text-decoration-color: #008080; font-weight: bold\">0.09932778775691986</span>\n",
       "</pre>\n"
      ],
      "text/plain": [
       "val_loss function equal \u001b[1;36m0.09932778775691986\u001b[0m\n"
      ]
     },
     "metadata": {},
     "output_type": "display_data"
    },
    {
     "name": "stdout",
     "output_type": "stream",
     "text": [
      "EPOCH: 6.000\ttrn_loss: 0.105\tval_loss: 0.101\t(75.24s - 50.16s remaining)\n"
     ]
    },
    {
     "data": {
      "text/html": [
       "<pre style=\"white-space:pre;overflow-x:auto;line-height:normal;font-family:Menlo,'DejaVu Sans Mono',consolas,'Courier New',monospace\">train_loss function equal <span style=\"color: #008080; text-decoration-color: #008080; font-weight: bold\">0.09995711594820023</span>\n",
       "</pre>\n"
      ],
      "text/plain": [
       "train_loss function equal \u001b[1;36m0.09995711594820023\u001b[0m\n"
      ]
     },
     "metadata": {},
     "output_type": "display_data"
    },
    {
     "name": "stdout",
     "output_type": "stream",
     "text": [
      "EPOCH: 7.000\ttrn_loss: 0.101\t(76.38s - 32.73s remaining)"
     ]
    },
    {
     "data": {
      "text/html": [
       "<pre style=\"white-space:pre;overflow-x:auto;line-height:normal;font-family:Menlo,'DejaVu Sans Mono',consolas,'Courier New',monospace\">train_loss function equal <span style=\"color: #008080; text-decoration-color: #008080; font-weight: bold\">0.10170953720808029</span>\n",
       "</pre>\n"
      ],
      "text/plain": [
       "train_loss function equal \u001b[1;36m0.10170953720808029\u001b[0m\n"
      ]
     },
     "metadata": {},
     "output_type": "display_data"
    },
    {
     "name": "stdout",
     "output_type": "stream",
     "text": [
      "EPOCH: 7.000\ttrn_loss: 0.093\t(77.51s - 33.22s remaining)"
     ]
    },
    {
     "data": {
      "text/html": [
       "<pre style=\"white-space:pre;overflow-x:auto;line-height:normal;font-family:Menlo,'DejaVu Sans Mono',consolas,'Courier New',monospace\">train_loss function equal <span style=\"color: #008080; text-decoration-color: #008080; font-weight: bold\">0.10064899176359177</span>\n",
       "</pre>\n"
      ],
      "text/plain": [
       "train_loss function equal \u001b[1;36m0.10064899176359177\u001b[0m\n"
      ]
     },
     "metadata": {},
     "output_type": "display_data"
    },
    {
     "name": "stdout",
     "output_type": "stream",
     "text": [
      "EPOCH: 7.000\ttrn_loss: 0.095\t(78.64s - 33.70s remaining)"
     ]
    },
    {
     "data": {
      "text/html": [
       "<pre style=\"white-space:pre;overflow-x:auto;line-height:normal;font-family:Menlo,'DejaVu Sans Mono',consolas,'Courier New',monospace\">train_loss function equal <span style=\"color: #008080; text-decoration-color: #008080; font-weight: bold\">0.09282172471284866</span>\n",
       "</pre>\n"
      ],
      "text/plain": [
       "train_loss function equal \u001b[1;36m0.09282172471284866\u001b[0m\n"
      ]
     },
     "metadata": {},
     "output_type": "display_data"
    },
    {
     "name": "stdout",
     "output_type": "stream",
     "text": [
      "EPOCH: 7.000\ttrn_loss: 0.100\t(79.81s - 34.20s remaining)"
     ]
    },
    {
     "data": {
      "text/html": [
       "<pre style=\"white-space:pre;overflow-x:auto;line-height:normal;font-family:Menlo,'DejaVu Sans Mono',consolas,'Courier New',monospace\">train_loss function equal <span style=\"color: #008080; text-decoration-color: #008080; font-weight: bold\">0.09961271286010742</span>\n",
       "</pre>\n"
      ],
      "text/plain": [
       "train_loss function equal \u001b[1;36m0.09961271286010742\u001b[0m\n"
      ]
     },
     "metadata": {},
     "output_type": "display_data"
    },
    {
     "name": "stdout",
     "output_type": "stream",
     "text": [
      "EPOCH: 7.000\ttrn_loss: 0.106\t(80.96s - 34.70s remaining)"
     ]
    },
    {
     "data": {
      "text/html": [
       "<pre style=\"white-space:pre;overflow-x:auto;line-height:normal;font-family:Menlo,'DejaVu Sans Mono',consolas,'Courier New',monospace\">train_loss function equal <span style=\"color: #008080; text-decoration-color: #008080; font-weight: bold\">0.09499091655015945</span>\n",
       "</pre>\n"
      ],
      "text/plain": [
       "train_loss function equal \u001b[1;36m0.09499091655015945\u001b[0m\n"
      ]
     },
     "metadata": {},
     "output_type": "display_data"
    },
    {
     "name": "stdout",
     "output_type": "stream",
     "text": [
      "EPOCH: 7.000\ttrn_loss: 0.108\t(82.10s - 35.18s remaining)"
     ]
    },
    {
     "data": {
      "text/html": [
       "<pre style=\"white-space:pre;overflow-x:auto;line-height:normal;font-family:Menlo,'DejaVu Sans Mono',consolas,'Courier New',monospace\">train_loss function equal <span style=\"color: #008080; text-decoration-color: #008080; font-weight: bold\">0.09781184047460556</span>\n",
       "</pre>\n"
      ],
      "text/plain": [
       "train_loss function equal \u001b[1;36m0.09781184047460556\u001b[0m\n"
      ]
     },
     "metadata": {},
     "output_type": "display_data"
    },
    {
     "name": "stdout",
     "output_type": "stream",
     "text": [
      "EPOCH: 7.000\ttrn_loss: 0.099\t(83.27s - 35.69s remaining)"
     ]
    },
    {
     "data": {
      "text/html": [
       "<pre style=\"white-space:pre;overflow-x:auto;line-height:normal;font-family:Menlo,'DejaVu Sans Mono',consolas,'Courier New',monospace\">train_loss function equal <span style=\"color: #008080; text-decoration-color: #008080; font-weight: bold\">0.09563171118497849</span>\n",
       "</pre>\n"
      ],
      "text/plain": [
       "train_loss function equal \u001b[1;36m0.09563171118497849\u001b[0m\n"
      ]
     },
     "metadata": {},
     "output_type": "display_data"
    },
    {
     "name": "stdout",
     "output_type": "stream",
     "text": [
      "EPOCH: 7.000\ttrn_loss: 0.101\t(84.46s - 36.20s remaining)"
     ]
    },
    {
     "data": {
      "text/html": [
       "<pre style=\"white-space:pre;overflow-x:auto;line-height:normal;font-family:Menlo,'DejaVu Sans Mono',consolas,'Courier New',monospace\">train_loss function equal <span style=\"color: #008080; text-decoration-color: #008080; font-weight: bold\">0.10579726099967957</span>\n",
       "</pre>\n"
      ],
      "text/plain": [
       "train_loss function equal \u001b[1;36m0.10579726099967957\u001b[0m\n"
      ]
     },
     "metadata": {},
     "output_type": "display_data"
    },
    {
     "name": "stdout",
     "output_type": "stream",
     "text": [
      "EPOCH: 7.000\ttrn_loss: 0.105\t(85.63s - 36.70s remaining)"
     ]
    },
    {
     "data": {
      "text/html": [
       "<pre style=\"white-space:pre;overflow-x:auto;line-height:normal;font-family:Menlo,'DejaVu Sans Mono',consolas,'Courier New',monospace\">train_loss function equal <span style=\"color: #008080; text-decoration-color: #008080; font-weight: bold\">0.0936664417386055</span>\n",
       "</pre>\n"
      ],
      "text/plain": [
       "train_loss function equal \u001b[1;36m0.0936664417386055\u001b[0m\n"
      ]
     },
     "metadata": {},
     "output_type": "display_data"
    },
    {
     "name": "stdout",
     "output_type": "stream",
     "text": [
      "EPOCH: 7.000\ttrn_loss: 0.091\t(86.09s - 36.89s remaining)"
     ]
    },
    {
     "data": {
      "text/html": [
       "<pre style=\"white-space:pre;overflow-x:auto;line-height:normal;font-family:Menlo,'DejaVu Sans Mono',consolas,'Courier New',monospace\">val_loss function equal <span style=\"color: #008080; text-decoration-color: #008080; font-weight: bold\">0.09669402986764908</span>\n",
       "</pre>\n"
      ],
      "text/plain": [
       "val_loss function equal \u001b[1;36m0.09669402986764908\u001b[0m\n"
      ]
     },
     "metadata": {},
     "output_type": "display_data"
    },
    {
     "name": "stdout",
     "output_type": "stream",
     "text": [
      "EPOCH: 7.000\tval_loss: 0.098\t(87.10s - 37.33s remaining)"
     ]
    },
    {
     "data": {
      "text/html": [
       "<pre style=\"white-space:pre;overflow-x:auto;line-height:normal;font-family:Menlo,'DejaVu Sans Mono',consolas,'Courier New',monospace\">val_loss function equal <span style=\"color: #008080; text-decoration-color: #008080; font-weight: bold\">0.09574398398399353</span>\n",
       "</pre>\n"
      ],
      "text/plain": [
       "val_loss function equal \u001b[1;36m0.09574398398399353\u001b[0m\n"
      ]
     },
     "metadata": {},
     "output_type": "display_data"
    },
    {
     "name": "stdout",
     "output_type": "stream",
     "text": [
      "EPOCH: 7.000\ttrn_loss: 0.102\tval_loss: 0.099\t(87.71s - 37.59s remaining)\n"
     ]
    },
    {
     "data": {
      "text/html": [
       "<pre style=\"white-space:pre;overflow-x:auto;line-height:normal;font-family:Menlo,'DejaVu Sans Mono',consolas,'Courier New',monospace\">train_loss function equal <span style=\"color: #008080; text-decoration-color: #008080; font-weight: bold\">0.10022725909948349</span>\n",
       "</pre>\n"
      ],
      "text/plain": [
       "train_loss function equal \u001b[1;36m0.10022725909948349\u001b[0m\n"
      ]
     },
     "metadata": {},
     "output_type": "display_data"
    },
    {
     "name": "stdout",
     "output_type": "stream",
     "text": [
      "EPOCH: 8.000\ttrn_loss: 0.096\t(88.88s - 22.22s remaining)"
     ]
    },
    {
     "data": {
      "text/html": [
       "<pre style=\"white-space:pre;overflow-x:auto;line-height:normal;font-family:Menlo,'DejaVu Sans Mono',consolas,'Courier New',monospace\">train_loss function equal <span style=\"color: #008080; text-decoration-color: #008080; font-weight: bold\">0.09861857444047928</span>\n",
       "</pre>\n"
      ],
      "text/plain": [
       "train_loss function equal \u001b[1;36m0.09861857444047928\u001b[0m\n"
      ]
     },
     "metadata": {},
     "output_type": "display_data"
    },
    {
     "name": "stdout",
     "output_type": "stream",
     "text": [
      "EPOCH: 8.000\ttrn_loss: 0.099\t(90.09s - 22.52s remaining)"
     ]
    },
    {
     "data": {
      "text/html": [
       "<pre style=\"white-space:pre;overflow-x:auto;line-height:normal;font-family:Menlo,'DejaVu Sans Mono',consolas,'Courier New',monospace\">train_loss function equal <span style=\"color: #008080; text-decoration-color: #008080; font-weight: bold\">0.09850101917982101</span>\n",
       "</pre>\n"
      ],
      "text/plain": [
       "train_loss function equal \u001b[1;36m0.09850101917982101\u001b[0m\n"
      ]
     },
     "metadata": {},
     "output_type": "display_data"
    },
    {
     "name": "stdout",
     "output_type": "stream",
     "text": [
      "EPOCH: 8.000\ttrn_loss: 0.096\t(91.28s - 22.82s remaining)"
     ]
    },
    {
     "data": {
      "text/html": [
       "<pre style=\"white-space:pre;overflow-x:auto;line-height:normal;font-family:Menlo,'DejaVu Sans Mono',consolas,'Courier New',monospace\">train_loss function equal <span style=\"color: #008080; text-decoration-color: #008080; font-weight: bold\">0.098365418612957</span>\n",
       "</pre>\n"
      ],
      "text/plain": [
       "train_loss function equal \u001b[1;36m0.098365418612957\u001b[0m\n"
      ]
     },
     "metadata": {},
     "output_type": "display_data"
    },
    {
     "name": "stdout",
     "output_type": "stream",
     "text": [
      "EPOCH: 8.000\ttrn_loss: 0.090\t(92.48s - 23.12s remaining)"
     ]
    },
    {
     "data": {
      "text/html": [
       "<pre style=\"white-space:pre;overflow-x:auto;line-height:normal;font-family:Menlo,'DejaVu Sans Mono',consolas,'Courier New',monospace\">train_loss function equal <span style=\"color: #008080; text-decoration-color: #008080; font-weight: bold\">0.1063389852643013</span>\n",
       "</pre>\n"
      ],
      "text/plain": [
       "train_loss function equal \u001b[1;36m0.1063389852643013\u001b[0m\n"
      ]
     },
     "metadata": {},
     "output_type": "display_data"
    },
    {
     "name": "stdout",
     "output_type": "stream",
     "text": [
      "EPOCH: 8.000\ttrn_loss: 0.100\t(93.71s - 23.43s remaining)"
     ]
    },
    {
     "data": {
      "text/html": [
       "<pre style=\"white-space:pre;overflow-x:auto;line-height:normal;font-family:Menlo,'DejaVu Sans Mono',consolas,'Courier New',monospace\">train_loss function equal <span style=\"color: #008080; text-decoration-color: #008080; font-weight: bold\">0.09398899972438812</span>\n",
       "</pre>\n"
      ],
      "text/plain": [
       "train_loss function equal \u001b[1;36m0.09398899972438812\u001b[0m\n"
      ]
     },
     "metadata": {},
     "output_type": "display_data"
    },
    {
     "name": "stdout",
     "output_type": "stream",
     "text": [
      "EPOCH: 8.000\ttrn_loss: 0.100\t(94.87s - 23.72s remaining)"
     ]
    },
    {
     "data": {
      "text/html": [
       "<pre style=\"white-space:pre;overflow-x:auto;line-height:normal;font-family:Menlo,'DejaVu Sans Mono',consolas,'Courier New',monospace\">train_loss function equal <span style=\"color: #008080; text-decoration-color: #008080; font-weight: bold\">0.09148480743169785</span>\n",
       "</pre>\n"
      ],
      "text/plain": [
       "train_loss function equal \u001b[1;36m0.09148480743169785\u001b[0m\n"
      ]
     },
     "metadata": {},
     "output_type": "display_data"
    },
    {
     "name": "stdout",
     "output_type": "stream",
     "text": [
      "EPOCH: 8.000\ttrn_loss: 0.094\t(96.04s - 24.01s remaining)"
     ]
    },
    {
     "data": {
      "text/html": [
       "<pre style=\"white-space:pre;overflow-x:auto;line-height:normal;font-family:Menlo,'DejaVu Sans Mono',consolas,'Courier New',monospace\">train_loss function equal <span style=\"color: #008080; text-decoration-color: #008080; font-weight: bold\">0.09736640751361847</span>\n",
       "</pre>\n"
      ],
      "text/plain": [
       "train_loss function equal \u001b[1;36m0.09736640751361847\u001b[0m\n"
      ]
     },
     "metadata": {},
     "output_type": "display_data"
    },
    {
     "name": "stdout",
     "output_type": "stream",
     "text": [
      "EPOCH: 8.000\ttrn_loss: 0.095\t(97.21s - 24.30s remaining)"
     ]
    },
    {
     "data": {
      "text/html": [
       "<pre style=\"white-space:pre;overflow-x:auto;line-height:normal;font-family:Menlo,'DejaVu Sans Mono',consolas,'Courier New',monospace\">train_loss function equal <span style=\"color: #008080; text-decoration-color: #008080; font-weight: bold\">0.09794003516435623</span>\n",
       "</pre>\n"
      ],
      "text/plain": [
       "train_loss function equal \u001b[1;36m0.09794003516435623\u001b[0m\n"
      ]
     },
     "metadata": {},
     "output_type": "display_data"
    },
    {
     "name": "stdout",
     "output_type": "stream",
     "text": [
      "EPOCH: 8.000\ttrn_loss: 0.094\t(98.44s - 24.61s remaining)"
     ]
    },
    {
     "data": {
      "text/html": [
       "<pre style=\"white-space:pre;overflow-x:auto;line-height:normal;font-family:Menlo,'DejaVu Sans Mono',consolas,'Courier New',monospace\">train_loss function equal <span style=\"color: #008080; text-decoration-color: #008080; font-weight: bold\">0.09858006983995438</span>\n",
       "</pre>\n"
      ],
      "text/plain": [
       "train_loss function equal \u001b[1;36m0.09858006983995438\u001b[0m\n"
      ]
     },
     "metadata": {},
     "output_type": "display_data"
    },
    {
     "name": "stdout",
     "output_type": "stream",
     "text": [
      "EPOCH: 8.000\ttrn_loss: 0.091\t(98.91s - 24.73s remaining)"
     ]
    },
    {
     "data": {
      "text/html": [
       "<pre style=\"white-space:pre;overflow-x:auto;line-height:normal;font-family:Menlo,'DejaVu Sans Mono',consolas,'Courier New',monospace\">val_loss function equal <span style=\"color: #008080; text-decoration-color: #008080; font-weight: bold\">0.09483934938907623</span>\n",
       "</pre>\n"
      ],
      "text/plain": [
       "val_loss function equal \u001b[1;36m0.09483934938907623\u001b[0m\n"
      ]
     },
     "metadata": {},
     "output_type": "display_data"
    },
    {
     "name": "stdout",
     "output_type": "stream",
     "text": [
      "EPOCH: 8.000\tval_loss: 0.095\t(99.93s - 24.98s remaining)"
     ]
    },
    {
     "data": {
      "text/html": [
       "<pre style=\"white-space:pre;overflow-x:auto;line-height:normal;font-family:Menlo,'DejaVu Sans Mono',consolas,'Courier New',monospace\">val_loss function equal <span style=\"color: #008080; text-decoration-color: #008080; font-weight: bold\">0.09396010637283325</span>\n",
       "</pre>\n"
      ],
      "text/plain": [
       "val_loss function equal \u001b[1;36m0.09396010637283325\u001b[0m\n"
      ]
     },
     "metadata": {},
     "output_type": "display_data"
    },
    {
     "name": "stdout",
     "output_type": "stream",
     "text": [
      "EPOCH: 8.000\ttrn_loss: 0.099\tval_loss: 0.096\t(100.53s - 25.13s remaining)\n"
     ]
    },
    {
     "data": {
      "text/html": [
       "<pre style=\"white-space:pre;overflow-x:auto;line-height:normal;font-family:Menlo,'DejaVu Sans Mono',consolas,'Courier New',monospace\">train_loss function equal <span style=\"color: #008080; text-decoration-color: #008080; font-weight: bold\">0.09914863109588623</span>\n",
       "</pre>\n"
      ],
      "text/plain": [
       "train_loss function equal \u001b[1;36m0.09914863109588623\u001b[0m\n"
      ]
     },
     "metadata": {},
     "output_type": "display_data"
    },
    {
     "name": "stdout",
     "output_type": "stream",
     "text": [
      "EPOCH: 9.000\ttrn_loss: 0.096\t(101.67s - 11.30s remaining)"
     ]
    },
    {
     "data": {
      "text/html": [
       "<pre style=\"white-space:pre;overflow-x:auto;line-height:normal;font-family:Menlo,'DejaVu Sans Mono',consolas,'Courier New',monospace\">train_loss function equal <span style=\"color: #008080; text-decoration-color: #008080; font-weight: bold\">0.09966517239809036</span>\n",
       "</pre>\n"
      ],
      "text/plain": [
       "train_loss function equal \u001b[1;36m0.09966517239809036\u001b[0m\n"
      ]
     },
     "metadata": {},
     "output_type": "display_data"
    },
    {
     "name": "stdout",
     "output_type": "stream",
     "text": [
      "EPOCH: 9.000\ttrn_loss: 0.091\t(102.88s - 11.43s remaining)"
     ]
    },
    {
     "data": {
      "text/html": [
       "<pre style=\"white-space:pre;overflow-x:auto;line-height:normal;font-family:Menlo,'DejaVu Sans Mono',consolas,'Courier New',monospace\">train_loss function equal <span style=\"color: #008080; text-decoration-color: #008080; font-weight: bold\">0.09369462728500366</span>\n",
       "</pre>\n"
      ],
      "text/plain": [
       "train_loss function equal \u001b[1;36m0.09369462728500366\u001b[0m\n"
      ]
     },
     "metadata": {},
     "output_type": "display_data"
    },
    {
     "name": "stdout",
     "output_type": "stream",
     "text": [
      "EPOCH: 9.000\ttrn_loss: 0.094\t(104.08s - 11.56s remaining)"
     ]
    },
    {
     "data": {
      "text/html": [
       "<pre style=\"white-space:pre;overflow-x:auto;line-height:normal;font-family:Menlo,'DejaVu Sans Mono',consolas,'Courier New',monospace\">train_loss function equal <span style=\"color: #008080; text-decoration-color: #008080; font-weight: bold\">0.09656742215156555</span>\n",
       "</pre>\n"
      ],
      "text/plain": [
       "train_loss function equal \u001b[1;36m0.09656742215156555\u001b[0m\n"
      ]
     },
     "metadata": {},
     "output_type": "display_data"
    },
    {
     "name": "stdout",
     "output_type": "stream",
     "text": [
      "EPOCH: 9.000\ttrn_loss: 0.101\t(105.30s - 11.70s remaining)"
     ]
    },
    {
     "data": {
      "text/html": [
       "<pre style=\"white-space:pre;overflow-x:auto;line-height:normal;font-family:Menlo,'DejaVu Sans Mono',consolas,'Courier New',monospace\">train_loss function equal <span style=\"color: #008080; text-decoration-color: #008080; font-weight: bold\">0.09309261292219162</span>\n",
       "</pre>\n"
      ],
      "text/plain": [
       "train_loss function equal \u001b[1;36m0.09309261292219162\u001b[0m\n"
      ]
     },
     "metadata": {},
     "output_type": "display_data"
    },
    {
     "name": "stdout",
     "output_type": "stream",
     "text": [
      "EPOCH: 9.000\ttrn_loss: 0.094\t(106.49s - 11.83s remaining)"
     ]
    },
    {
     "data": {
      "text/html": [
       "<pre style=\"white-space:pre;overflow-x:auto;line-height:normal;font-family:Menlo,'DejaVu Sans Mono',consolas,'Courier New',monospace\">train_loss function equal <span style=\"color: #008080; text-decoration-color: #008080; font-weight: bold\">0.093986876308918</span>\n",
       "</pre>\n"
      ],
      "text/plain": [
       "train_loss function equal \u001b[1;36m0.093986876308918\u001b[0m\n"
      ]
     },
     "metadata": {},
     "output_type": "display_data"
    },
    {
     "name": "stdout",
     "output_type": "stream",
     "text": [
      "EPOCH: 9.000\ttrn_loss: 0.088\t(107.62s - 11.96s remaining)"
     ]
    },
    {
     "data": {
      "text/html": [
       "<pre style=\"white-space:pre;overflow-x:auto;line-height:normal;font-family:Menlo,'DejaVu Sans Mono',consolas,'Courier New',monospace\">train_loss function equal <span style=\"color: #008080; text-decoration-color: #008080; font-weight: bold\">0.08939509093761444</span>\n",
       "</pre>\n"
      ],
      "text/plain": [
       "train_loss function equal \u001b[1;36m0.08939509093761444\u001b[0m\n"
      ]
     },
     "metadata": {},
     "output_type": "display_data"
    },
    {
     "name": "stdout",
     "output_type": "stream",
     "text": [
      "EPOCH: 9.000\ttrn_loss: 0.087\t(108.82s - 12.09s remaining)"
     ]
    },
    {
     "data": {
      "text/html": [
       "<pre style=\"white-space:pre;overflow-x:auto;line-height:normal;font-family:Menlo,'DejaVu Sans Mono',consolas,'Courier New',monospace\">train_loss function equal <span style=\"color: #008080; text-decoration-color: #008080; font-weight: bold\">0.09890258312225342</span>\n",
       "</pre>\n"
      ],
      "text/plain": [
       "train_loss function equal \u001b[1;36m0.09890258312225342\u001b[0m\n"
      ]
     },
     "metadata": {},
     "output_type": "display_data"
    },
    {
     "name": "stdout",
     "output_type": "stream",
     "text": [
      "EPOCH: 9.000\ttrn_loss: 0.091\t(109.99s - 12.22s remaining)"
     ]
    },
    {
     "data": {
      "text/html": [
       "<pre style=\"white-space:pre;overflow-x:auto;line-height:normal;font-family:Menlo,'DejaVu Sans Mono',consolas,'Courier New',monospace\">train_loss function equal <span style=\"color: #008080; text-decoration-color: #008080; font-weight: bold\">0.09438928961753845</span>\n",
       "</pre>\n"
      ],
      "text/plain": [
       "train_loss function equal \u001b[1;36m0.09438928961753845\u001b[0m\n"
      ]
     },
     "metadata": {},
     "output_type": "display_data"
    },
    {
     "name": "stdout",
     "output_type": "stream",
     "text": [
      "EPOCH: 9.000\ttrn_loss: 0.095\t(111.13s - 12.35s remaining)"
     ]
    },
    {
     "data": {
      "text/html": [
       "<pre style=\"white-space:pre;overflow-x:auto;line-height:normal;font-family:Menlo,'DejaVu Sans Mono',consolas,'Courier New',monospace\">train_loss function equal <span style=\"color: #008080; text-decoration-color: #008080; font-weight: bold\">0.09793061763048172</span>\n",
       "</pre>\n"
      ],
      "text/plain": [
       "train_loss function equal \u001b[1;36m0.09793061763048172\u001b[0m\n"
      ]
     },
     "metadata": {},
     "output_type": "display_data"
    },
    {
     "name": "stdout",
     "output_type": "stream",
     "text": [
      "EPOCH: 9.000\ttrn_loss: 0.094\t(111.57s - 12.40s remaining)"
     ]
    },
    {
     "data": {
      "text/html": [
       "<pre style=\"white-space:pre;overflow-x:auto;line-height:normal;font-family:Menlo,'DejaVu Sans Mono',consolas,'Courier New',monospace\">val_loss function equal <span style=\"color: #008080; text-decoration-color: #008080; font-weight: bold\">0.09282486885786057</span>\n",
       "</pre>\n"
      ],
      "text/plain": [
       "val_loss function equal \u001b[1;36m0.09282486885786057\u001b[0m\n"
      ]
     },
     "metadata": {},
     "output_type": "display_data"
    },
    {
     "name": "stdout",
     "output_type": "stream",
     "text": [
      "EPOCH: 9.000\tval_loss: 0.092\t(112.59s - 12.51s remaining)"
     ]
    },
    {
     "data": {
      "text/html": [
       "<pre style=\"white-space:pre;overflow-x:auto;line-height:normal;font-family:Menlo,'DejaVu Sans Mono',consolas,'Courier New',monospace\">val_loss function equal <span style=\"color: #008080; text-decoration-color: #008080; font-weight: bold\">0.09112861752510071</span>\n",
       "</pre>\n"
      ],
      "text/plain": [
       "val_loss function equal \u001b[1;36m0.09112861752510071\u001b[0m\n"
      ]
     },
     "metadata": {},
     "output_type": "display_data"
    },
    {
     "name": "stdout",
     "output_type": "stream",
     "text": [
      "EPOCH: 9.000\ttrn_loss: 0.097\tval_loss: 0.094\t(113.20s - 12.58s remaining)\n"
     ]
    },
    {
     "data": {
      "text/html": [
       "<pre style=\"white-space:pre;overflow-x:auto;line-height:normal;font-family:Menlo,'DejaVu Sans Mono',consolas,'Courier New',monospace\">train_loss function equal <span style=\"color: #008080; text-decoration-color: #008080; font-weight: bold\">0.09325632452964783</span>\n",
       "</pre>\n"
      ],
      "text/plain": [
       "train_loss function equal \u001b[1;36m0.09325632452964783\u001b[0m\n"
      ]
     },
     "metadata": {},
     "output_type": "display_data"
    },
    {
     "name": "stdout",
     "output_type": "stream",
     "text": [
      "EPOCH: 10.000\ttrn_loss: 0.093\t(114.42s - 0.00s remaining)"
     ]
    },
    {
     "data": {
      "text/html": [
       "<pre style=\"white-space:pre;overflow-x:auto;line-height:normal;font-family:Menlo,'DejaVu Sans Mono',consolas,'Courier New',monospace\">train_loss function equal <span style=\"color: #008080; text-decoration-color: #008080; font-weight: bold\">0.09621673822402954</span>\n",
       "</pre>\n"
      ],
      "text/plain": [
       "train_loss function equal \u001b[1;36m0.09621673822402954\u001b[0m\n"
      ]
     },
     "metadata": {},
     "output_type": "display_data"
    },
    {
     "name": "stdout",
     "output_type": "stream",
     "text": [
      "EPOCH: 10.000\ttrn_loss: 0.091\t(115.58s - 0.00s remaining)"
     ]
    },
    {
     "data": {
      "text/html": [
       "<pre style=\"white-space:pre;overflow-x:auto;line-height:normal;font-family:Menlo,'DejaVu Sans Mono',consolas,'Courier New',monospace\">train_loss function equal <span style=\"color: #008080; text-decoration-color: #008080; font-weight: bold\">0.08785686641931534</span>\n",
       "</pre>\n"
      ],
      "text/plain": [
       "train_loss function equal \u001b[1;36m0.08785686641931534\u001b[0m\n"
      ]
     },
     "metadata": {},
     "output_type": "display_data"
    },
    {
     "name": "stdout",
     "output_type": "stream",
     "text": [
      "EPOCH: 10.000\ttrn_loss: 0.095\t(116.76s - 0.00s remaining)"
     ]
    },
    {
     "data": {
      "text/html": [
       "<pre style=\"white-space:pre;overflow-x:auto;line-height:normal;font-family:Menlo,'DejaVu Sans Mono',consolas,'Courier New',monospace\">train_loss function equal <span style=\"color: #008080; text-decoration-color: #008080; font-weight: bold\">0.09437902271747589</span>\n",
       "</pre>\n"
      ],
      "text/plain": [
       "train_loss function equal \u001b[1;36m0.09437902271747589\u001b[0m\n"
      ]
     },
     "metadata": {},
     "output_type": "display_data"
    },
    {
     "name": "stdout",
     "output_type": "stream",
     "text": [
      "EPOCH: 10.000\ttrn_loss: 0.085\t(117.95s - 0.00s remaining)"
     ]
    },
    {
     "data": {
      "text/html": [
       "<pre style=\"white-space:pre;overflow-x:auto;line-height:normal;font-family:Menlo,'DejaVu Sans Mono',consolas,'Courier New',monospace\">train_loss function equal <span style=\"color: #008080; text-decoration-color: #008080; font-weight: bold\">0.08676168322563171</span>\n",
       "</pre>\n"
      ],
      "text/plain": [
       "train_loss function equal \u001b[1;36m0.08676168322563171\u001b[0m\n"
      ]
     },
     "metadata": {},
     "output_type": "display_data"
    },
    {
     "name": "stdout",
     "output_type": "stream",
     "text": [
      "EPOCH: 10.000\ttrn_loss: 0.092\t(119.15s - 0.00s remaining)"
     ]
    },
    {
     "data": {
      "text/html": [
       "<pre style=\"white-space:pre;overflow-x:auto;line-height:normal;font-family:Menlo,'DejaVu Sans Mono',consolas,'Courier New',monospace\">train_loss function equal <span style=\"color: #008080; text-decoration-color: #008080; font-weight: bold\">0.09424445778131485</span>\n",
       "</pre>\n"
      ],
      "text/plain": [
       "train_loss function equal \u001b[1;36m0.09424445778131485\u001b[0m\n"
      ]
     },
     "metadata": {},
     "output_type": "display_data"
    },
    {
     "name": "stdout",
     "output_type": "stream",
     "text": [
      "EPOCH: 10.000\ttrn_loss: 0.096\t(120.30s - 0.00s remaining)"
     ]
    },
    {
     "data": {
      "text/html": [
       "<pre style=\"white-space:pre;overflow-x:auto;line-height:normal;font-family:Menlo,'DejaVu Sans Mono',consolas,'Courier New',monospace\">train_loss function equal <span style=\"color: #008080; text-decoration-color: #008080; font-weight: bold\">0.09174232184886932</span>\n",
       "</pre>\n"
      ],
      "text/plain": [
       "train_loss function equal \u001b[1;36m0.09174232184886932\u001b[0m\n"
      ]
     },
     "metadata": {},
     "output_type": "display_data"
    },
    {
     "name": "stdout",
     "output_type": "stream",
     "text": [
      "EPOCH: 10.000\ttrn_loss: 0.096\t(121.46s - 0.00s remaining)"
     ]
    },
    {
     "data": {
      "text/html": [
       "<pre style=\"white-space:pre;overflow-x:auto;line-height:normal;font-family:Menlo,'DejaVu Sans Mono',consolas,'Courier New',monospace\">train_loss function equal <span style=\"color: #008080; text-decoration-color: #008080; font-weight: bold\">0.09679543226957321</span>\n",
       "</pre>\n"
      ],
      "text/plain": [
       "train_loss function equal \u001b[1;36m0.09679543226957321\u001b[0m\n"
      ]
     },
     "metadata": {},
     "output_type": "display_data"
    },
    {
     "name": "stdout",
     "output_type": "stream",
     "text": [
      "EPOCH: 10.000\ttrn_loss: 0.093\t(122.59s - 0.00s remaining)"
     ]
    },
    {
     "data": {
      "text/html": [
       "<pre style=\"white-space:pre;overflow-x:auto;line-height:normal;font-family:Menlo,'DejaVu Sans Mono',consolas,'Courier New',monospace\">train_loss function equal <span style=\"color: #008080; text-decoration-color: #008080; font-weight: bold\">0.08884842693805695</span>\n",
       "</pre>\n"
      ],
      "text/plain": [
       "train_loss function equal \u001b[1;36m0.08884842693805695\u001b[0m\n"
      ]
     },
     "metadata": {},
     "output_type": "display_data"
    },
    {
     "name": "stdout",
     "output_type": "stream",
     "text": [
      "EPOCH: 10.000\ttrn_loss: 0.091\t(123.76s - 0.00s remaining)"
     ]
    },
    {
     "data": {
      "text/html": [
       "<pre style=\"white-space:pre;overflow-x:auto;line-height:normal;font-family:Menlo,'DejaVu Sans Mono',consolas,'Courier New',monospace\">train_loss function equal <span style=\"color: #008080; text-decoration-color: #008080; font-weight: bold\">0.08798093348741531</span>\n",
       "</pre>\n"
      ],
      "text/plain": [
       "train_loss function equal \u001b[1;36m0.08798093348741531\u001b[0m\n"
      ]
     },
     "metadata": {},
     "output_type": "display_data"
    },
    {
     "name": "stdout",
     "output_type": "stream",
     "text": [
      "EPOCH: 10.000\ttrn_loss: 0.094\t(124.23s - 0.00s remaining)"
     ]
    },
    {
     "data": {
      "text/html": [
       "<pre style=\"white-space:pre;overflow-x:auto;line-height:normal;font-family:Menlo,'DejaVu Sans Mono',consolas,'Courier New',monospace\">val_loss function equal <span style=\"color: #008080; text-decoration-color: #008080; font-weight: bold\">0.09196123480796814</span>\n",
       "</pre>\n"
      ],
      "text/plain": [
       "val_loss function equal \u001b[1;36m0.09196123480796814\u001b[0m\n"
      ]
     },
     "metadata": {},
     "output_type": "display_data"
    },
    {
     "name": "stdout",
     "output_type": "stream",
     "text": [
      "EPOCH: 10.000\tval_loss: 0.090\t(125.37s - 0.00s remaining)"
     ]
    },
    {
     "data": {
      "text/html": [
       "<pre style=\"white-space:pre;overflow-x:auto;line-height:normal;font-family:Menlo,'DejaVu Sans Mono',consolas,'Courier New',monospace\">val_loss function equal <span style=\"color: #008080; text-decoration-color: #008080; font-weight: bold\">0.0901959240436554</span>\n",
       "</pre>\n"
      ],
      "text/plain": [
       "val_loss function equal \u001b[1;36m0.0901959240436554\u001b[0m\n"
      ]
     },
     "metadata": {},
     "output_type": "display_data"
    },
    {
     "name": "stdout",
     "output_type": "stream",
     "text": [
      "EPOCH: 10.000\ttrn_loss: 0.095\tval_loss: 0.092\t(126.13s - 0.00s remaining)\n"
     ]
    },
    {
     "data": {
      "image/png": "[encoded data removed]",
      "text/plain": [
       "<Figure size 800x600 with 1 Axes>"
      ]
     },
     "metadata": {},
     "output_type": "display_data"
    }
   ],
   "source": [
    "network = AutoEncoder(10,128,0.001).to(device)\n",
    "num_epochs = 10\n",
    "log = Report(num_epochs)\n",
    "for epoch in range(num_epochs):\n",
    "    \n",
    "    for idx,(batch,_) in enumerate(iter(network.train)):\n",
    "        x = batch.to(device)\n",
    "        loss = network.train_batch(x)\n",
    "        if idx % 50 == 0:\n",
    "            print('train_loss function equal {}'.format(loss))\n",
    "        log.record(epoch+1,trn_loss=loss,end='\\r')\n",
    "\n",
    "    for idx,(batch,_) in enumerate(iter(network.test)):\n",
    "        x= batch.to(device)\n",
    "        loss = network.validate_batch(x)\n",
    "        if idx %50 == 0:\n",
    "            print('val_loss function equal {}'.format(loss))\n",
    "        log.record(epoch+1,val_loss=loss,end='\\r')\n",
    "    log.report_avgs(epoch+1)\n",
    "log.plot(log=True)"
   ]
  },
  {
   "cell_type": "code",
   "execution_count": 3,
   "id": "f3fb5ab4",
   "metadata": {},
   "outputs": [
    {
     "data": {
      "image/png": "[encoded data removed]",
      "text/plain": [
       "<Figure size 300x300 with 2 Axes>"
      ]
     },
     "metadata": {},
     "output_type": "display_data"
    },
    {
     "data": {
      "image/png": "[encoded data removed]",
      "text/plain": [
       "<Figure size 300x300 with 2 Axes>"
      ]
     },
     "metadata": {},
     "output_type": "display_data"
    },
    {
     "data": {
      "image/png": "[encoded data removed]",
      "text/plain": [
       "<Figure size 300x300 with 2 Axes>"
      ]
     },
     "metadata": {},
     "output_type": "display_data"
    }
   ],
   "source": [
    "for _ in range(3):\n",
    "    idx = np.random.randint(len(testing_data))\n",
    "    im,_= testing_data[idx]\n",
    "    _im = network.forward(im.to(device)).squeeze()\n",
    "    fig, ax = plt.subplots(1,2,figsize=(3,3)) \n",
    "    show(im.squeeze(), ax=ax[0], title='input')\n",
    "    show(_im, ax=ax[1], title='prediction')\n",
    "    plt.tight_layout()\n",
    "    plt.show()"
   ]
  },
  {
   "cell_type": "code",
   "execution_count": null,
   "id": "ab9b4a59",
   "metadata": {},
   "outputs": [],
   "source": []
  }
 ],
 "metadata": {
  "kernelspec": {
   "display_name": "Python 3",
   "language": "python",
   "name": "python3"
  },
  "language_info": {
   "codemirror_mode": {
    "name": "ipython",
    "version": 3
   },
   "file_extension": ".py",
   "mimetype": "text/x-python",
   "name": "python",
   "nbconvert_exporter": "python",
   "pygments_lexer": "ipython3",
   "version": "3.7.13"
  }
 },
 "nbformat": 4,
 "nbformat_minor": 5
}
